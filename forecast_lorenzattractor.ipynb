{
 "cells": [
  {
   "cell_type": "code",
   "execution_count": null,
   "metadata": {},
   "outputs": [],
   "source": [
    "import numpy as np\n",
    "from scipy.integrate import odeint # this serves to numerically solve ODEs\n",
    "from prova import DeepReservoir"
   ]
  },
  {
   "cell_type": "markdown",
   "metadata": {},
   "source": [
    "Generate lorenz series"
   ]
  },
  {
   "cell_type": "code",
   "execution_count": null,
   "metadata": {},
   "outputs": [
    {
     "ename": "",
     "evalue": "",
     "output_type": "error",
     "traceback": [
      "\u001b[1;31mRunning cells with '.venv (Python 3.13.1)' requires the ipykernel package.\n",
      "\u001b[1;31mRun the following command to install 'ipykernel' into the Python environment. \n",
      "\u001b[1;31mCommand: '/Users/matt/Desktop/Tesi/Codice/.venv/bin/python -m pip install ipykernel -U --force-reinstall'"
     ]
    }
   ],
   "source": [
    "def lorenz(y, t, sigma, rho, beta):\n",
    "    x1, x2, x3 = y\n",
    "    dydt = [sigma*(x2-x1) , x1*(rho - x3) - x2 , x1*x2 - beta*x3 ]\n",
    "    return dydt\n",
    "\n",
    "sigma = 10; rho=28; beta=8/3\n",
    "y0 = [5, -8, 10] # initial condition\n",
    "endtime = 50 # 2000\n",
    "dt_odeint = 0.01\n",
    "t = np.linspace(0,endtime, int(endtime/dt_odeint)) # time points\n",
    "timewarp = 1\n",
    "yt = odeint(lorenz,y0,timewarp*t,args=(sigma,rho,beta)) # solve ODE\n",
    "print(\"hello world\")"
   ]
  },
  {
   "cell_type": "markdown",
   "metadata": {},
   "source": [
    "Create deep reservoir"
   ]
  },
  {
   "cell_type": "code",
   "execution_count": null,
   "metadata": {},
   "outputs": [],
   "source": []
  }
 ],
 "metadata": {
  "kernelspec": {
   "display_name": ".venv",
   "language": "python",
   "name": "python3"
  },
  "language_info": {
   "name": "python",
   "version": "3.13.1"
  }
 },
 "nbformat": 4,
 "nbformat_minor": 2
}

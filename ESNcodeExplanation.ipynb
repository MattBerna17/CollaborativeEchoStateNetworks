{
 "cells": [
  {
   "cell_type": "markdown",
   "metadata": {},
   "source": [
    "# Echo State Network\n",
    "Questo notebook contiene al suo interno la spiegazione del codice python facente uso della libreria PyTorch per la creazione di una Echo State Network."
   ]
  },
  {
   "cell_type": "markdown",
   "metadata": {},
   "source": [
    "### Import delle librerie necessarie"
   ]
  },
  {
   "cell_type": "code",
   "execution_count": null,
   "metadata": {},
   "outputs": [
    {
     "ename": "",
     "evalue": "",
     "output_type": "error",
     "traceback": [
      "\u001b[1;31mRunning cells with '.venv (Python 3.13.1)' requires the ipykernel package.\n",
      "\u001b[1;31mRun the following command to install 'ipykernel' into the Python environment. \n",
      "\u001b[1;31mCommand: '/Users/matt/Desktop/Tesi/Codice/.venv/bin/python -m pip install ipykernel -U --force-reinstall'"
     ]
    }
   ],
   "source": [
    "import torch\n",
    "from torch import nn\n",
    "import numpy as np"
   ]
  },
  {
   "cell_type": "markdown",
   "metadata": {},
   "source": [
    "### Definizione di funzioni per la generazione di tensori e matrici in modo sparso\n",
    "Le seguenti funzioni implementano la generazione di tensori di PyTorch con determinate proprietà e contenenti numeri float."
   ]
  },
  {
   "cell_type": "code",
   "execution_count": null,
   "metadata": {},
   "outputs": [
    {
     "ename": "",
     "evalue": "",
     "output_type": "error",
     "traceback": [
      "\u001b[1;31mRunning cells with '.venv (Python 3.13.1)' requires the ipykernel package.\n",
      "\u001b[1;31mRun the following command to install 'ipykernel' into the Python environment. \n",
      "\u001b[1;31mCommand: '/Users/matt/Desktop/Tesi/Codice/.venv/bin/python -m pip install ipykernel -U --force-reinstall'"
     ]
    }
   ],
   "source": [
    "def sparse_eye_init(M: int) -> torch.FloatTensor:\n",
    "    \"\"\" Generates an M x M matrix to be used as sparse identity matrix for the\n",
    "    re-scaling of the sparse recurrent kernel in presence of non-zero leakage.\n",
    "    The neurons are connected according to a ring topology, where each neuron\n",
    "    receives input only from one neuron and propagates its activation only to\n",
    "    one other neuron. All the non-zero elements are set to 1.\n",
    "\n",
    "    :param M: number of hidden units\n",
    "    :return: dense weight matrix\n",
    "    \"\"\"\n",
    "    dense_shape = torch.Size([M, M])\n",
    "\n",
    "    # gives the shape of a ring matrix:\n",
    "    indices = torch.zeros((M, 2), dtype=torch.long)\n",
    "    for i in range(M):\n",
    "        indices[i, :] = i\n",
    "    values = torch.ones(M)\n",
    "    return torch.sparse_coo_tensor(indices.T, values, dense_shape).to_dense().float()\n",
    "\n",
    "print(sparse_eye_init(5))"
   ]
  },
  {
   "cell_type": "markdown",
   "metadata": {},
   "source": [
    "(Non è la solita cosa di creare una semplice matrice identità MxM?)"
   ]
  },
  {
   "cell_type": "code",
   "execution_count": null,
   "metadata": {},
   "outputs": [],
   "source": [
    "def sparse_tensor_init(M: int, N: int, C: int = 1) -> torch.FloatTensor:\n",
    "    \"\"\" Generates an M x N matrix to be used as sparse (input) kernel\n",
    "    For each row only C elements are non-zero (i.e., each input dimension is\n",
    "    projected only to C neurons). The non-zero elements are generated randomly\n",
    "    from a uniform distribution in [-1,1]\n",
    "\n",
    "    :param M: number of rows\n",
    "    :param N: number of columns\n",
    "    :param C: number of nonzero elements\n",
    "    :return: MxN dense matrix\n",
    "    \"\"\"\n",
    "    dense_shape = torch.Size([M, N])  # shape of the dense version of the matrix\n",
    "    indices = torch.zeros((M * C, 2), dtype=torch.long)\n",
    "    k = 0\n",
    "    for i in range(M):\n",
    "        # the indices of non-zero elements in the i-th row of the matrix\n",
    "        idx = np.random.choice(N, size=C, replace=False)\n",
    "        for j in range(C):\n",
    "            indices[k, 0] = i\n",
    "            indices[k, 1] = idx[j]\n",
    "            k = k + 1\n",
    "    #values = 2 * (2 * np.random.rand(M * C).astype('f') - 1)\n",
    "    values = 2 * np.random.rand(M * C).astype('f') - 1\n",
    "    values = torch.from_numpy(values)\n",
    "    return torch.sparse_coo_tensor(indices.T, values, dense_shape).to_dense().float()"
   ]
  }
 ],
 "metadata": {
  "kernelspec": {
   "display_name": ".venv",
   "language": "python",
   "name": "python3"
  },
  "language_info": {
   "name": "python",
   "version": "3.13.1"
  }
 },
 "nbformat": 4,
 "nbformat_minor": 2
}
